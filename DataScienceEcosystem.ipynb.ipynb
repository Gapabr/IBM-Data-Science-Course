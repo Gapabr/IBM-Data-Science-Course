{
 "cells": [
  {
   "cell_type": "markdown",
   "id": "2c757328-152d-4ef7-80fa-9b8b29f3ac00",
   "metadata": {},
   "source": [
    "# Data Science Tools and Ecosystem"
   ]
  },
  {
   "cell_type": "markdown",
   "id": "a0a953c3-c213-4e80-9fb1-96b84b74fa19",
   "metadata": {},
   "source": [
    "In this notebook, Data Science Tools and Ecosystem are summarized."
   ]
  },
  {
   "cell_type": "markdown",
   "id": "054ae686-53f7-4a35-a8a2-dc044458e2af",
   "metadata": {},
   "source": [
    "**Objectives:**\n",
    "+ List popular languages for Data Science\n",
    "+ List popular libraries for Data Science\n",
    "+ Lis of somoe expressions in Pynthon"
   ]
  },
  {
   "cell_type": "markdown",
   "id": "0aa63c4b-aed0-487e-937d-34b454db082a",
   "metadata": {},
   "source": [
    "Some of the popular languages that Data Scientists use are:\n",
    "1. Python\n",
    "2. R\n",
    "3. SQL\n",
    "4. Julia"
   ]
  },
  {
   "cell_type": "markdown",
   "id": "b2060cf3-62cf-4d89-9c2e-a1a615d843af",
   "metadata": {},
   "source": [
    "Some of the commonly used libraries used by Data Scientists include:\n",
    "1. Pandas\n",
    "2. NumPy\n",
    "3. SciPy\n",
    "4. PyTorch"
   ]
  },
  {
   "cell_type": "markdown",
   "id": "c9f191f0-f9b9-4201-88c3-98dcd69c3239",
   "metadata": {},
   "source": [
    " Data Science Tools |\n",
    "|:------------------:|\n",
    "|GitHuB|\n",
    "|JupytherLabs|\n",
    "|TensorFLow|"
   ]
  },
  {
   "cell_type": "markdown",
   "id": "c8d2799a-522e-4a3c-8b30-4fe5402ab72c",
   "metadata": {},
   "source": [
    "### Below are a few examples of evaluating arithmetic expressions in Python\n"
   ]
  },
  {
   "cell_type": "code",
   "execution_count": 4,
   "id": "16abaac0-f5c9-4f53-b327-2e65e35a0128",
   "metadata": {},
   "outputs": [
    {
     "data": {
      "text/plain": [
       "17"
      ]
     },
     "execution_count": 4,
     "metadata": {},
     "output_type": "execute_result"
    }
   ],
   "source": [
    "#This a simple arithmetic expression to mutiply then add integers.\n",
    "(3*4)+5\n"
   ]
  },
  {
   "cell_type": "code",
   "execution_count": 5,
   "id": "d6b4fc67-1757-4c6d-b818-bcdb5137182d",
   "metadata": {},
   "outputs": [
    {
     "data": {
      "text/plain": [
       "3.3333333333333335"
      ]
     },
     "execution_count": 5,
     "metadata": {},
     "output_type": "execute_result"
    }
   ],
   "source": [
    "#This will convert 200 minutes to hours by diving by 60\n",
    "200/60"
   ]
  },
  {
   "cell_type": "markdown",
   "id": "cdafad41-996a-44a0-8e5a-dd542e233dda",
   "metadata": {},
   "source": [
    "## Author\n",
    "Guilherme Araújo"
   ]
  },
  {
   "cell_type": "code",
   "execution_count": null,
   "id": "dd8b2dad-cfc3-4269-a3f2-162b91b61bac",
   "metadata": {},
   "outputs": [],
   "source": []
  }
 ],
 "metadata": {
  "kernelspec": {
   "display_name": "Python 3 (ipykernel)",
   "language": "python",
   "name": "python3"
  },
  "language_info": {
   "codemirror_mode": {
    "name": "ipython",
    "version": 3
   },
   "file_extension": ".py",
   "mimetype": "text/x-python",
   "name": "python",
   "nbconvert_exporter": "python",
   "pygments_lexer": "ipython3",
   "version": "3.12.7"
  }
 },
 "nbformat": 4,
 "nbformat_minor": 5
}
